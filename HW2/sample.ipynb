{
 "cells": [
  {
   "cell_type": "code",
   "execution_count": 1,
   "id": "regulation-georgia",
   "metadata": {},
   "outputs": [],
   "source": [
    "import gzip\n",
    "import numpy as np\n",
    "import matplotlib.pyplot as plt\n",
    "\n",
    "\n",
    "def load_fashion_mnist():\n",
    "    \"\"\"\n",
    "    Loads Fashion MNIST dataset.\n",
    "    \n",
    "    Adapted from: https://github.com/zalandoresearch/fashion-mnist/blob/master/utils/mnist_reader.py\n",
    "    \"\"\"\n",
    "    TRAIN_IMAGES = 'train-images-idx3-ubyte.gz'\n",
    "    TRAIN_LABELS = 'train-labels-idx1-ubyte.gz'    \n",
    "    TEST_IMAGES = 't10k-images-idx3-ubyte.gz'\n",
    "    TEST_LABELS = 't10k-labels-idx1-ubyte.gz'\n",
    "\n",
    "    with gzip.open(TRAIN_LABELS, 'rb') as tr_labels_file, gzip.open(TEST_LABELS, 'rb') as ts_labels_file:\n",
    "        train_labels = np.frombuffer(tr_labels_file.read(), dtype=np.uint8, offset=8)\n",
    "        test_labels = np.frombuffer(ts_labels_file.read(), dtype=np.uint8, offset=8)\n",
    "\n",
    "    with gzip.open(TRAIN_IMAGES, 'rb') as tr_images_file, gzip.open(TEST_IMAGES, 'rb') as ts_images_file:\n",
    "        train_images = np.frombuffer(tr_images_file.read(), dtype=np.uint8, offset=16).reshape(len(train_labels), 784)\n",
    "        test_images = np.frombuffer(ts_images_file.read(), dtype=np.uint8, offset=16).reshape(len(test_labels), 784)\n",
    "\n",
    "    return train_images, train_labels, test_images, test_labels"
   ]
  },
  {
   "cell_type": "code",
   "execution_count": 2,
   "id": "innocent-mystery",
   "metadata": {},
   "outputs": [],
   "source": [
    "def pretty_print(image_example):\n",
    "    \"\"\" Pretty prints a Fashion MNIST example.\n",
    "\n",
    "    Parameters:\n",
    "        image_example: a 1x784 numpy array corresponding to the features of\n",
    "                       a single image.\n",
    "\n",
    "    Returns:\n",
    "        None.\n",
    "    \"\"\"\n",
    "    print(np.array_str(image_example, precision=1, max_line_width=116))\n"
   ]
  },
  {
   "cell_type": "code",
   "execution_count": 23,
   "id": "ruled-chester",
   "metadata": {},
   "outputs": [],
   "source": [
    "def usage_example():\n",
    "    \"\"\" Example of how to load and parse Fashion MNIST data. \"\"\"\n",
    "    \n",
    "    train_images, train_labels, test_images, test_labels = load_fashion_mnist()\n",
    "\n",
    "    # train_images is a 60,000 x 784 numpy matrix. There are 60k\n",
    "    # rows in the matrix, each row corresponding to a single example.\n",
    "    # There are 784 columns, each corresponding to the value of a\n",
    "    # single pixel in the 28x28 image after it has been \"flattened\".\n",
    "    print(\"Dimensions of training set feature matrix:\", train_images.shape)\n",
    "\n",
    "    # The labels for each example are maintained separately in train_labels.\n",
    "    # This is a 60,000 x 1 numpy matrix, where each element is the label\n",
    "    # for the corresponding training example.\n",
    "    print(\"Dimensions of training set label matrix:\", train_labels.shape)\n",
    "\n",
    "    # Example of how to access a individual training example (in this case,\n",
    "    # we pick an example at a random index). We could use print to output the\n",
    "    # raw pixel values to the screen, but pretty_print formats the data in \n",
    "    # a nicer way: if you squint, you may be able to make out the contours of\n",
    "    # the fashion article in the matrix data.\n",
    "    EXAMPLE_INDEX = np.random.randint(60000)\n",
    "    print(\"Features of training example at index {}:\\n\".format(EXAMPLE_INDEX))\n",
    "    pretty_print(train_images[EXAMPLE_INDEX])\n",
    "\n",
    "    # And here's the label that goes with that training example\n",
    "    print(\"\\nLabel of training example at index {}:\".format(EXAMPLE_INDEX), train_labels[EXAMPLE_INDEX], '\\n')\n",
    "\n",
    "\n",
    "    # Finally, let's visualize the example we've picked as a 28x28 image\n",
    "    plt.figure()\n",
    "    plt.imshow(train_images[EXAMPLE_INDEX].reshape(28, 28))\n",
    "    plt.show()\n",
    "    \n",
    "    # The test_images/test_labels are organized in the same way, but only contain 10k\n",
    "    # examples. Don't touch this data until your model is frozen! Perform all\n",
    "    # cross-validation, model selection, hyperparameter tuning etc. on the 60k\n",
    "    # training set. Use the test set simply for reporting performance.\n"
   ]
  },
  {
   "cell_type": "code",
   "execution_count": 24,
   "id": "institutional-softball",
   "metadata": {},
   "outputs": [
    {
     "name": "stdout",
     "output_type": "stream",
     "text": [
      "Dimensions of training set feature matrix: (60000, 784)\n",
      "Dimensions of training set label matrix: (60000,)\n",
      "Features of training example at index 20956:\n",
      "\n",
      "[  0   0   0   0   0   0   0   0   0   0   0  99 105 116  91  85 147 117 127 148  20   0   0   0   0   0   0   0\n",
      "   0   0   0   0   0   0   0   0   1   0   9 255 232 255 249 210 255 241 205 231  68   0   0   0   0   0   0   0\n",
      "   0   0   0   0   0   0   0   0   1   0 130 229 213 216 227 203 205 211 196 233  77   0   0   0   0   0   0   0\n",
      "   0   0   0   0   0   0   0   0   0   0 212 207 199 219 222 209 222 211 180 202 119   0   0   0   0   0   0   0\n",
      "   0   0   0   0   0   0   0   0   0  63 255 205 217 216 223 211 212 205 185 200 125   0   0   0   0   0   0   0\n",
      "   0   0   0   0   0   0   0   0   0 149 239 190 207 214 220 218 223 215 181 201  94   0   0   0   0   0   0   0\n",
      "   0   0   0   0   0   0   0   0   0 205 211 175 200 221 225 250 229 204 173 208  73   0   0   0   0   0   0   0\n",
      "   0   0   0   0   0   0   0   0   0 228 198 183 203 210 202 223 244 201 174 210  60   0   0   0   0   0   0   0\n",
      "   0   0   0   0   0   0   0   0   7 249 191 189 199 250  90 146 255 194 186 209  15   0   0   0   0   0   0   0\n",
      "   0   0   0   0   0   0   0   0  31 250 185 190 199 255   3 126 255 181 190 207   0   0   0   0   0   0   0   0\n",
      "   0   0   0   0   0   0   0   0  39 239 183 189 214 254   0  95 255 184 188 160   0   0   0   0   0   0   0   0\n",
      "   0   0   0   0   0   0   0   0  42 229 189 187 254 147   0  83 255 177 182 112   0   0   0   0   0   0   0   0\n",
      "   0   0   0   0   0   0   0   0  21 211 181 201 255  18   0  64 237 171 171  71   0   0   0   0   0   0   0   0\n",
      "   0   0   0   0   0   0   0   0   2 212 186 210 222   0   0  47 235 167 178  73   0   0   0   0   0   0   0   0\n",
      "   0   0   0   0   0   0   0   0   0 212 189 220 198   0   0  38 234 169 185  69   0   0   0   0   0   0   0   0\n",
      "   0   0   0   0   0   0   0   0   0 219 194 226 171   0   0  29 225 177 177  53   0   0   0   0   0   0   0   0\n",
      "   0   0   0   0   0   0   0   0  10 226 197 233  97   0   0   0 255 185 172 130   0   0   0   0   0   0   0   0\n",
      "   0   0   0   0   0   0   0   0   0 205 206 236  99   0   0   0 242 221 207 156   0   0   0   0   0   0   0   0\n",
      "   0   0   0   0   0   0   0   0   0 212 217 234 175   0   0   0 188 241 224 153   0   0   0   0   0   0   0   0\n",
      "   0   0   0   0   0   0   0   0   0 187 230 224 221   0   0   0 181 239 231 155   0   0   0   0   0   0   0   0\n",
      "   0   0   0   0   0   0   0   0   0 103 240 219 242   0   0   0 207 232 234 155   0   0   0   0   0   0   0   0\n",
      "   0   0   0   0   0   0   0   0   0  37 236 221 254   0   0   0 255 231 235 191   0   0   0   0   0   0   0   0\n",
      "   0   0   0   0   0   0   0   0   0   0 214 222 233  78   0   0 255 232 242 188   0   0   0   0   0   0   0   0\n",
      "   0   0   0   0   0   0   0   0   0   0 226 228 237 150   0   0 255 229 242 104   0   0   0   0   0   0   0   0\n",
      "   0   0   0   0   0   0   0   0   0   0 208 238 227 229   0   0 255 235 238  46   0   0   0   0   0   0   0   0\n",
      "   0   0   0   0   0   0   0   0   3   0 123 250 222 241  36   0 203 238 224  24   0   0   0   0   0   0   0   0\n",
      "   0   0   0   0   0   0   0   0   2   0  45 250 243 255   2   0 179 255 238  33   0   0   0   0   0   0   0   0\n",
      "   0   0   0   0   0   0   0   0   1   0   0  60 122  60   0   0  61 184 117   0   0   0   0   0   0   0   0   0]\n",
      "\n",
      "Label of training example at index 20956: 1 \n",
      "\n"
     ]
    },
    {
     "data": {
      "image/png": "[encoded data removed]",
      "text/plain": [
       "<Figure size 432x288 with 1 Axes>"
      ]
     },
     "metadata": {
      "needs_background": "light"
     },
     "output_type": "display_data"
    }
   ],
   "source": [
    "usage_example()"
   ]
  },
  {
   "cell_type": "code",
   "execution_count": 9,
   "id": "liked-microphone",
   "metadata": {},
   "outputs": [
    {
     "ename": "NameError",
     "evalue": "name 'train_images' is not defined",
     "output_type": "error",
     "traceback": [
      "\u001b[0;31m---------------------------------------------------------------------------\u001b[0m",
      "\u001b[0;31mNameError\u001b[0m                                 Traceback (most recent call last)",
      "\u001b[0;32m<ipython-input-9-b8bf5ebdf731>\u001b[0m in \u001b[0;36m<module>\u001b[0;34m\u001b[0m\n\u001b[0;32m----> 1\u001b[0;31m \u001b[0mtrain_images\u001b[0m\u001b[0;34m.\u001b[0m\u001b[0mhead\u001b[0m\u001b[0;34m(\u001b[0m\u001b[0;34m)\u001b[0m\u001b[0;34m\u001b[0m\u001b[0;34m\u001b[0m\u001b[0m\n\u001b[0m\u001b[1;32m      2\u001b[0m \u001b[0mtrain_labels\u001b[0m\u001b[0;34m.\u001b[0m\u001b[0mhead\u001b[0m\u001b[0;34m(\u001b[0m\u001b[0;34m)\u001b[0m\u001b[0;34m\u001b[0m\u001b[0;34m\u001b[0m\u001b[0m\n",
      "\u001b[0;31mNameError\u001b[0m: name 'train_images' is not defined"
     ]
    }
   ],
   "source": []
  },
  {
   "cell_type": "code",
   "execution_count": null,
   "id": "burning-lodge",
   "metadata": {},
   "outputs": [],
   "source": []
  }
 ],
 "metadata": {
  "kernelspec": {
   "display_name": "Python 3",
   "language": "python",
   "name": "python3"
  },
  "language_info": {
   "codemirror_mode": {
    "name": "ipython",
    "version": 3
   },
   "file_extension": ".py",
   "mimetype": "text/x-python",
   "name": "python",
   "nbconvert_exporter": "python",
   "pygments_lexer": "ipython3",
   "version": "3.7.9"
  }
 },
 "nbformat": 4,
 "nbformat_minor": 5
}
