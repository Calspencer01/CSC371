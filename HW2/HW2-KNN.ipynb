{
 "cells": [
  {
   "cell_type": "code",
   "execution_count": 27,
   "id": "studied-treasurer",
   "metadata": {},
   "outputs": [],
   "source": [
    "import gzip\n",
    "import numpy as np\n",
    "import matplotlib.pyplot as plt\n",
    "import pandas as pd\n",
    "import scipy.stats as stats\n",
    "import random\n",
    "from numpy import linalg as LA\n",
    "from sklearn.metrics import confusion_matrix, f1_score\n",
    "\n",
    "def load_fashion_mnist():\n",
    "    \"\"\"\n",
    "    Loads Fashion MNIST dataset.\n",
    "    \n",
    "    Adapted from: https://github.com/zalandoresearch/fashion-mnist/blob/master/utils/mnist_reader.py\n",
    "    \"\"\"\n",
    "    TRAIN_IMAGES = 'train-images-idx3-ubyte.gz'\n",
    "    TRAIN_LABELS = 'train-labels-idx1-ubyte.gz'    \n",
    "    TEST_IMAGES = 't10k-images-idx3-ubyte.gz'\n",
    "    TEST_LABELS = 't10k-labels-idx1-ubyte.gz'\n",
    "\n",
    "    with gzip.open(TRAIN_LABELS, 'rb') as tr_labels_file, gzip.open(TEST_LABELS, 'rb') as ts_labels_file:\n",
    "        train_labels = np.frombuffer(tr_labels_file.read(), dtype=np.uint8, offset=8)\n",
    "        test_labels = np.frombuffer(ts_labels_file.read(), dtype=np.uint8, offset=8)\n",
    "\n",
    "    with gzip.open(TRAIN_IMAGES, 'rb') as tr_images_file, gzip.open(TEST_IMAGES, 'rb') as ts_images_file:\n",
    "        train_images = np.frombuffer(tr_images_file.read(), dtype=np.uint8, offset=16).reshape(len(train_labels), 784)\n",
    "        test_images = np.frombuffer(ts_images_file.read(), dtype=np.uint8, offset=16).reshape(len(test_labels), 784)\n",
    "\n",
    "    return train_images, train_labels, test_images, test_labels"
   ]
  },
  {
   "cell_type": "code",
   "execution_count": 28,
   "id": "limited-cancer",
   "metadata": {},
   "outputs": [],
   "source": [
    "def pretty_print(image_example):\n",
    "    \"\"\" Pretty prints a Fashion MNIST example.\n",
    "\n",
    "    Parameters:\n",
    "        image_example: a 1x784 numpy array corresponding to the features of\n",
    "                       a single image.\n",
    "\n",
    "    Returns:\n",
    "        None.\n",
    "    \"\"\"\n",
    "    print(np.array_str(image_example, precision=1, max_line_width=116))\n"
   ]
  },
  {
   "cell_type": "code",
   "execution_count": 29,
   "id": "divided-oxide",
   "metadata": {},
   "outputs": [],
   "source": [
    "def usage_example():\n",
    "    \"\"\" Example of how to load and parse Fashion MNIST data. \"\"\"\n",
    "    \n",
    "    train_images, train_labels, test_images, test_labels = load_fashion_mnist()\n",
    "\n",
    "    # train_images is a 60,000 x 784 numpy matrix. There are 60k\n",
    "    # rows in the matrix, each row corresponding to a single example.\n",
    "    # There are 784 columns, each corresponding to the value of a\n",
    "    # single pixel in the 28x28 image after it has been \"flattened\".\n",
    "    print(\"Dimensions of training set feature matrix:\", train_images.shape)\n",
    "\n",
    "    # The labels for each example are maintained separately in train_labels.\n",
    "    # This is a 60,000 x 1 numpy matrix, where each element is the label\n",
    "    # for the corresponding training example.\n",
    "    print(\"Dimensions of training set label matrix:\", train_labels.shape)\n",
    "\n",
    "    # Example of how to access a individual training example (in this case,\n",
    "    # we pick an example at a random index). We could use print to output the\n",
    "    # raw pixel values to the screen, but pretty_print formats the data in \n",
    "    # a nicer way: if you squint, you may be able to make out the contours of\n",
    "    # the fashion article in the matrix data.\n",
    "    EXAMPLE_INDEX = np.random.randint(60000)\n",
    "    print(\"Features of training example at index {}:\\n\".format(EXAMPLE_INDEX))\n",
    "    pretty_print(train_images[EXAMPLE_INDEX])\n",
    "\n",
    "    # And here's the label that goes with that training example\n",
    "    print(\"\\nLabel of training example at index {}:\".format(EXAMPLE_INDEX), train_labels[EXAMPLE_INDEX], '\\n')\n",
    "\n",
    "\n",
    "    # Finally, let's visualize the example we've picked as a 28x28 image\n",
    "    plt.figure()\n",
    "    plt.imshow(train_images[EXAMPLE_INDEX].reshape(28, 28))\n",
    "    plt.show()\n",
    "    \n",
    "    # The test_images/test_labels are organized in the same way, but only contain 10k\n",
    "    # examples. Don't touch this data until your model is frozen! Perform all\n",
    "    # cross-validation, model selection, hyperparameter tuning etc. on the 60k\n",
    "    # training set. Use the test set simply for reporting performance.\n"
   ]
  },
  {
   "cell_type": "code",
   "execution_count": 30,
   "id": "noble-acquisition",
   "metadata": {},
   "outputs": [
    {
     "name": "stdout",
     "output_type": "stream",
     "text": [
      "Dimensions of training set feature matrix: (60000, 784)\n",
      "Dimensions of training set label matrix: (60000,)\n",
      "Features of training example at index 4279:\n",
      "\n",
      "[  0   0   0   0   0   0   0   1   0   0   0  68  81 113 121 109  65   0   0   0   2   1   0   0   0   0   0   0\n",
      "   0   0   0   0   0   3   0   0   0   0 148 233 229 233 228 234 248 108   0   0   0   0   3   0   0   0   0   0\n",
      "   0   0   0   0   0   0   0  82 184 237 215 220 230 219 222 238 233 225 246 169  71   0   0   0   0   0   0   0\n",
      "   0   0   0   0   0  60 204 226 226 221 194 219 232 228 231 243 227 184 207 224 223 192  44   0   0   0   0   0\n",
      "   0   0   0   0   0 189 222 208 212 183 191 204 236 240 239 244 201 200 192 203 196 211 173   0   0   0   0   0\n",
      "   0   0   0   0  34 217 200 208 236 220 201 206 213 244 248 213 187 201 169 213 201 184 205  30   0   0   0   0\n",
      "   0   0   0   0  90 221 203 211 205 238 230 195 193 252 242 179 187 192 208 208 199 184 205  98   0   0   0   0\n",
      "   0   0   0   0 127 223 201 210 212 204 226 200 117 237 222 185 199 202 203 198 193 191 196 125   0   0   0   0\n",
      "   0   0   0   0 171 212 208 203 213 208 196 216 155 193 193 151 149 173 199 195 202 197 207 154   0   0   0   0\n",
      "   0   0   0   0 203 199 219 218 202 232 220 186 224 200 140 146 147 178 203 200 196 213 210 185   0   0   0   0\n",
      "   0   0   0   0 225 197 211 255 211 170 200 182 214 186 175 197 171 203 188 190 208 209 196 205   0   0   0   0\n",
      "   0   0   0   0 235 202 204 254 226 150 178 207 176 170 168 141 186 185 147 125 228 217 200 221   0   0   0   0\n",
      "   0   0   0   0 239 204 210 241 221 205 188 245  94 191 141 170 186 194 161 162 229 223 198 217   6   0   0   0\n",
      "   0   0   0  17 244 201 211 248 232 214 175 239 139 168 166 169 196 193 174 198 222 222 193 237  24   0   0   0\n",
      "   0   0   0  38 245 196 228 187 224 215 179 223 178 151 153 156 203 177 172 192 205 222 206 241  25   0   0   0\n",
      "   0   0   0  54 205 192 241  70 228 216 183 212 172 139 186 153 211 182 166 210 188 222 197 235  32   0   0   0\n",
      "   0   0   0  69 206 189 239  13 231 223 217 204 187 127 170 190 191 190 192 225 106 224 197 231  64   0   0   0\n",
      "   0   0   0  78 212 184 220  17 220 168 164 217 198 162 125 191 188 194 218 222 108 239 181 222  68   0   0   0\n",
      "   0   0   0  84 214 180 190  36 234 152 166 224 189 177 145 174 204 201  89 149 152 239 187 218  78   0   0   0\n",
      "   0   0   0 103 209 178 170  40 241 204 223 212 182 155 177 183 205 225 214 237  83 235 189 210  81   0   0   0\n",
      "   0   0   0 119 208 186 152  33 243 199 202 211 193 136 151 178 191 205 198 239  56 225 194 207  85   0   0   0\n",
      "   0   0   0 134 205 197 135   6 236 200 198 205 196 159 141 163 180 180 197 208  68 219 190 204  99   0   0   0\n",
      "   0   0   0 144 200 207 121  10 255 223 222 222 198 205 175 203 203 192 221 230  83 205 197 183 115   0   0   0\n",
      "   0   0   0 155 197 206 105   0 109 121 135 169 143 170 145 189 171 175 147 138   0 175 204 186 132   0   0   0\n",
      "   0   0   0 153 197 200  94   0   0   0   0   0   0   0   0   0   0   0   0   0   0 144 209 190 134   0   0   0\n",
      "   0   0   0 146 193 197  91   0   7   7   6   0   0   0   0   0   0   0   1   7   0 126 208 189 119   0   0   0\n",
      "   0   0   0 189 210 202  63   0   3   0   0   0   0   0   0   0   0   0   0   3   0 124 228 195 174   0   0   0\n",
      "   0   0   0  63 104 135  15   0   5   0   0   0   0   0   0   0   0   0   0   4   0  43 140  89  66   0   0   0]\n",
      "\n",
      "Label of training example at index 4279: 4 \n",
      "\n"
     ]
    },
    {
     "data": {
      "image/png": "[encoded data removed]",
      "text/plain": [
       "<Figure size 432x288 with 1 Axes>"
      ]
     },
     "metadata": {
      "needs_background": "light"
     },
     "output_type": "display_data"
    }
   ],
   "source": [
    "usage_example()"
   ]
  },
  {
   "cell_type": "code",
   "execution_count": 31,
   "id": "collaborative-marketplace",
   "metadata": {},
   "outputs": [
    {
     "data": {
      "text/plain": [
       "array([  0,   0,   0,   0,   0,   0,   0,  11, 142, 200, 106,   0,   0,\n",
       "         0,   0,   0,   0,   0,  85, 185, 112,   0,   0,   0,   0,   0,\n",
       "         0,   0,   0,   0,   0,   0,   0,   0, 152, 214, 217, 194, 236,\n",
       "       216, 187, 149, 135, 153, 211, 217, 231, 205, 217, 188,  34,   0,\n",
       "         0,   0,   0,   0,   0,   0,   0,   0,   0,  66, 185, 166, 180,\n",
       "       181, 190, 211, 221, 197, 146, 198, 206, 191, 168, 190, 172, 188,\n",
       "       175,   0,   0,   0,   0,   0,   0,   0,   0,   0,   0, 135, 153,\n",
       "       160, 175, 180, 170, 186, 187, 190, 188, 190, 187, 174, 195, 185,\n",
       "       174, 161, 175,  59,   0,   0,   0,   0,   0,   0,   0,   0,   0,\n",
       "       161, 147, 160, 170, 178, 177, 180, 168, 173, 174, 171, 185, 184,\n",
       "       185, 172, 171, 164, 174, 120,   0,   0,   0,   0,   0,   0,   0,\n",
       "         0,   2, 175, 146, 145, 168, 178, 181, 185, 180, 184, 178, 179,\n",
       "       187, 191, 193, 190, 181, 171, 172, 158,   0,   0,   0,   0,   0,\n",
       "         0,   0,   0,  35, 177, 155, 140, 151, 172, 191, 187, 186, 187,\n",
       "       186, 187, 182, 191, 194, 188, 180, 161, 161, 185,   0,   0,   0,\n",
       "         0,   0,   0,   0,   0,  59, 170, 153, 141, 120, 154, 160, 161,\n",
       "       172, 168, 166, 161, 165, 172, 170, 164, 139, 149, 162, 166,  21,\n",
       "         0,   0,   0,   0,   0,   0,   0,  79, 145, 160, 214, 123, 128,\n",
       "       153, 160, 164, 158, 157, 154, 155, 170, 165, 141, 195, 193, 152,\n",
       "       166,  61,   0,   0,   0,   0,   0,   0,   0, 100, 157, 225, 245,\n",
       "       175, 113, 174, 158, 158, 160, 155, 160, 164, 178, 188, 135, 185,\n",
       "       240, 201, 172, 108,   0,   0,   0,   0,   0,   0,   0,   0,  31,\n",
       "       174,  28, 126, 153, 166, 152, 158, 158, 160, 161, 157, 168, 191,\n",
       "       188,  18, 132, 159,   7,   0,   0,   0,   0,   0,   0,   0,   0,\n",
       "         0,   0,   0,   0,  82, 187, 159, 153, 157, 158, 162, 164, 164,\n",
       "       154, 187, 190,   0,   0,   0,   0,   0,   0,   0,   0,   0,   0,\n",
       "         0,   0,   1,   3,   5,   0,  37, 175, 158, 155, 162, 158, 160,\n",
       "       162, 165, 153, 177, 205,   0,   0,   3,   3,   0,   0,   0,   0,\n",
       "         0,   0,   0,   0,   0,   0,   1,   0,  25, 175, 152, 160, 158,\n",
       "       161, 160, 164, 164, 161, 166, 200,   0,   0,   1,   0,   0,   0,\n",
       "         0,   0,   0,   0,   0,   0,   0,   0,   4,   0,  30, 171, 147,\n",
       "       164, 155, 165, 161, 165, 162, 170, 164, 162,   0,   0,   2,   0,\n",
       "         0,   0,   0,   0,   0,   0,   0,   0,   0,   0,   4,   0,  57,\n",
       "       166, 155, 164, 166, 161, 161, 164, 167, 165, 165, 162,  28,   0,\n",
       "         3,   0,   0,   0,   0,   0,   0,   0,   0,   0,   0,   0,   3,\n",
       "         0, 114, 161, 161, 166, 159, 168, 161, 161, 172, 162, 165, 171,\n",
       "        50,   0,   5,   0,   0,   0,   0,   0,   0,   0,   0,   0,   0,\n",
       "         0,   1,   0, 149, 157, 167, 172, 159, 172, 164, 161, 172, 170,\n",
       "       160, 171,  89,   0,   4,   0,   0,   0,   0,   0,   0,   0,   0,\n",
       "         0,   0,   2,   0,   4, 171, 164, 166, 173, 159, 179, 166, 160,\n",
       "       174, 167, 162, 166, 128,   0,   2,   0,   0,   0,   0,   0,   0,\n",
       "         0,   0,   0,   0,   3,   0,  18, 152, 173, 160, 179, 154, 181,\n",
       "       166, 164, 175, 170, 166, 170, 164,   0,   0,   1,   0,   0,   0,\n",
       "         0,   0,   0,   0,   0,   0,   4,   0,  47, 165, 172, 167, 185,\n",
       "       153, 187, 173, 165, 174, 179, 166, 166, 158,   5,   0,   3,   0,\n",
       "         0,   0,   0,   0,   0,   0,   0,   0,   4,   0,  87, 180, 162,\n",
       "       179, 179, 157, 191, 182, 165, 168, 190, 173, 165, 166,  20,   0,\n",
       "         4,   0,   0,   0,   0,   0,   0,   0,   0,   0,   4,   0, 105,\n",
       "       187, 157, 194, 175, 161, 190, 184, 170, 158, 205, 177, 168, 171,\n",
       "        44,   0,   4,   0,   0,   0,   0,   0,   0,   0,   0,   0,   5,\n",
       "         0, 138, 181, 158, 205, 160, 167, 190, 198, 167, 152, 218, 186,\n",
       "       170, 172,  57,   0,   5,   0,   0,   0,   0,   0,   0,   0,   0,\n",
       "         0,   5,   0, 135, 174, 167, 199, 155, 166, 201, 219, 165, 158,\n",
       "       218, 188, 167, 175,  56,   0,   7,   0,   0,   0,   0,   0,   0,\n",
       "         0,   0,   0,   5,   0, 129, 171, 172, 177, 153, 159, 206, 216,\n",
       "       148, 157, 206, 190, 165, 175,  48,   0,   5,   0,   0,   0,   0,\n",
       "         0,   0,   0,   0,   0,   5,   0, 167, 187, 182, 198, 194, 200,\n",
       "       226, 240, 184, 206, 255, 197, 178, 179,  42,   0,   5,   0,   0,\n",
       "         0,   0,   0,   0,   0,   0,   0,   3,   0, 115, 135, 113, 106,\n",
       "        85,  82, 108, 133,  83,  90, 121, 120, 110, 158,  18,   0,   3,\n",
       "         0,   0,   0,   0], dtype=uint8)"
      ]
     },
     "execution_count": 31,
     "metadata": {},
     "output_type": "execute_result"
    }
   ],
   "source": [
    "# Preprocessing, scaling\n",
    "\n",
    "train_images, train_labels, test_images, test_labels = load_fashion_mnist()\n",
    "\n",
    "train_images[10]\n",
    "\n",
    "\n"
   ]
  },
  {
   "cell_type": "code",
   "execution_count": 32,
   "id": "refined-eclipse",
   "metadata": {},
   "outputs": [],
   "source": [
    "def compute_distances(train_X, test_example):\n",
    "    \"\"\"\n",
    "    Returns a vector of the distances between the given test_example\n",
    "    and every training example in the matrix train_X.\n",
    "    \n",
    "    Parameters:\n",
    "        train_X - an nx3 matrix, containing n training examples\n",
    "        test_examples - a 1x3 vector containing a test example to classify\n",
    "        \n",
    "    Returns:\n",
    "        An nx1 matrix containing the distances from test_example to all the\n",
    "        examples in train_X.\n",
    "    \"\"\"\n",
    "    # print(LA.norm(- train_X + np.asarray(test_example), ord = 1, axis = 1))\n",
    "    \n",
    "    return LA.norm(- train_X + np.asarray(test_example), ord = 1, axis = 1)\n",
    "    \n"
   ]
  },
  {
   "cell_type": "code",
   "execution_count": 33,
   "id": "precise-concept",
   "metadata": {},
   "outputs": [],
   "source": [
    "def predict_one(distances, y_train, k):\n",
    "    \"\"\"\n",
    "    Given a vector of distances between a test example and all the training examples,\n",
    "    makes a prediction using a majority vote of k nearest neighbors.\n",
    "    \n",
    "    Parameters:\n",
    "        distances - an nx1 matrix containing the distances from a test example to\n",
    "                    all training examples.\n",
    "        train_y - an nx1 matrix containing the true labels\n",
    "        k - the number of neighbors participating in the prediction\n",
    "        \n",
    "    Returns:\n",
    "        A classification for the test example in question (i.e., either a 0 or a 1).\n",
    "    \"\"\"\n",
    "    min_indexes = np.argpartition(distances,k)[:k]\n",
    "    class_mode = stats.mode(y_train[min_indexes]).mode[0]\n",
    "    return class_mode"
   ]
  },
  {
   "cell_type": "code",
   "execution_count": null,
   "id": "covered-population",
   "metadata": {},
   "outputs": [],
   "source": []
  },
  {
   "cell_type": "code",
   "execution_count": 34,
   "id": "mexican-hartford",
   "metadata": {},
   "outputs": [],
   "source": [
    "def predict_all(X_train, y_train, X_test, k):\n",
    "    \"\"\"\n",
    "    Makes a k-NN prediction for every example in X_test, using (X_train, y_train).\n",
    "    \n",
    "    Parameters:\n",
    "        X_train - matrix of training data\n",
    "        y_train - vector of training labels\n",
    "        X_test - matrix of test data to be classified\n",
    "        k - the number of nearest neighbors participating in the classification.\n",
    "        \n",
    "    Returns:\n",
    "        An nx1 matrix of predictions for every test case.\n",
    "    \"\"\"\n",
    "    # no modification necessary\n",
    "    y_preds = []\n",
    "    for _, ex in X_test.iterrows():\n",
    "        distances = compute_distances(X_train, ex)\n",
    "        y_preds.append(predict_one(distances, y_train, k))\n",
    "    return y_preds"
   ]
  },
  {
   "cell_type": "code",
   "execution_count": 35,
   "id": "acting-demographic",
   "metadata": {},
   "outputs": [],
   "source": [
    "\n",
    "\n",
    "def grid_search(y_test, X_train, y_train, X_test):\n",
    "    scores = []\n",
    "    for i in k_range:\n",
    "        y_preds = predict_all(X_train, y_train, X_test, i)\n",
    "        scores.append(f1_score(y_test, y_preds))\n",
    "    return scores\n",
    "\n"
   ]
  },
  {
   "cell_type": "code",
   "execution_count": 36,
   "id": "expired-boring",
   "metadata": {},
   "outputs": [],
   "source": [
    "# Implementing a very similar KNN model to our sample assignment, we get a relatively high accuracy rate indentifying the correct clothing article. To test for hyperparameter K,\n",
    "# we will plot the accuracy of the model after [0] to [test_labels.size] predictions to see how many training examples are required to reach a good estimate for the accuracy, \n",
    "# that way we don't have to run 10000 examples to find the model's accuracy for each value of k because the data is far too large to use O(test_labels.size*K) runtime.\n",
    "\n",
    "#https://stackoverflow.com/questions/37794849/efficient-and-precise-calculation-of-the-euclidean-distance\n",
    "# def eudis5(v1, v2):\n",
    "# dist = [(a - b)**2 for a, b in zip(v1, v2)]\n",
    "# dist = math.sqrt(sum(dist))\n",
    "# return dist"
   ]
  },
  {
   "cell_type": "code",
   "execution_count": 37,
   "id": "prescription-franklin",
   "metadata": {},
   "outputs": [],
   "source": []
  },
  {
   "cell_type": "code",
   "execution_count": 58,
   "id": "precise-tractor",
   "metadata": {},
   "outputs": [
    {
     "name": "stdout",
     "output_type": "stream",
     "text": [
      "k:  1.0   accuracy:  50.0\n",
      "k:  3.0   accuracy:  65.0\n",
      "k:  1155.0   accuracy:  55.0\n",
      "k:  5.0   accuracy:  80.0\n",
      "k:  7.0   accuracy:  75.0\n",
      "k:  9.0   accuracy:  60.0\n",
      "k:  11.0   accuracy:  55.0\n",
      "k:  15.0   accuracy:  75.0\n",
      "k:  21.0   accuracy:  60.0\n",
      "k:  155.0   accuracy:  85.0\n",
      "k:  29.0   accuracy:  65.0\n",
      "k:  423.0   accuracy:  65.0\n",
      "k:  41.0   accuracy:  85.0\n",
      "k:  303.0   accuracy:  55.0\n",
      "k:  57.0   accuracy:  70.0\n",
      "k:  827.0   accuracy:  55.0\n",
      "k:  79.0   accuracy:  65.0\n",
      "k:  591.0   accuracy:  45.0\n",
      "k:  1617.0   accuracy:  55.0\n",
      "k:  2261.0   accuracy:  40.0\n",
      "k:  217.0   accuracy:  75.0\n",
      "k:  3163.0   accuracy:  65.0\n",
      "k:  111.0   accuracy:  75.0\n",
      "[50. 65. 55. 80. 75. 60. 55. 75. 60. 85. 65. 65. 85. 55. 70. 55. 65. 45.\n",
      " 55. 40. 75. 65. 75.]\n"
     ]
    }
   ],
   "source": [
    "\n",
    "\n",
    "def find_accuracy(train_images, test_images, train_labels, test_labels, n, k):\n",
    "    test_len = test_labels.size\n",
    "    predictions = 0\n",
    "    correct = 0\n",
    "    for i in range(0,num_predictions):\n",
    "        test_index = random.randint(0, test_len)\n",
    "        prediction = predict_one(compute_distances(train_images, test_images[test_index]), train_labels, int(k))\n",
    "        predictions = predictions + 1\n",
    "\n",
    "        if (prediction == test_labels[test_index]):\n",
    "            correct = correct + 1\n",
    "\n",
    "    return (100 * correct) / predictions\n",
    "\n",
    "def round_up_to_odd(f):\n",
    "        f = int(np.ceil(f))\n",
    "        return f + 1 if f % 2 == 0 else f\n",
    "\n",
    "def get_best_k(accuraciesArr, num_predictions, numk):\n",
    "    # Log k vals\n",
    "    log_vals = np.logspace(0, 3.5, num=numk)\n",
    "    k_vals = []\n",
    "    \n",
    "    \n",
    "    for val in log_vals:\n",
    "        k_vals =  np.append(k_vals, round_up_to_odd(val))\n",
    "\n",
    "    k_vals = list(set(k_vals))\n",
    "    \n",
    "    for k in k_vals:\n",
    "        accuracy = find_accuracy(train_images, test_images, train_labels, test_labels, num_predictions, k)\n",
    "        accuraciesArr = np.append(accuraciesArr, accuracy)\n",
    "        print('k: ', k, '  accuracy: ', accuracy)\n",
    "        test_len = test_labels.size\n",
    "    \n",
    "    return accuraciesArr, \n",
    "\n",
    "\n",
    "num_predictions = 20\n",
    "accuraciesArr = []\n",
    "\n",
    "accuraciesArr = get_best_k([], num_predictions, 25)\n",
    "print(accuraciesArr)\n",
    "print(max(accuraciesArr))\n"
   ]
  },
  {
   "cell_type": "code",
   "execution_count": 60,
   "id": "sunrise-disney",
   "metadata": {},
   "outputs": [
    {
     "name": "stdout",
     "output_type": "stream",
     "text": [
      "(22, 75.0)\n"
     ]
    }
   ],
   "source": [
    "print(max(enumerate(accuraciesArr)))"
   ]
  },
  {
   "cell_type": "code",
   "execution_count": 53,
   "id": "complex-wrong",
   "metadata": {},
   "outputs": [
    {
     "name": "stderr",
     "output_type": "stream",
     "text": [
      "/opt/conda/envs/common/lib/python3.7/site-packages/ipykernel_launcher.py:5: MatplotlibDeprecationWarning: Adding an axes using the same arguments as a previous axes currently reuses the earlier instance.  In a future version, a new instance will always be created and returned.  Meanwhile, this warning can be suppressed, and the future behavior ensured, by passing a unique label to each axes instance.\n",
      "  \"\"\"\n",
      "findfont: Font family ['normal'] not found. Falling back to DejaVu Sans.\n",
      "findfont: Font family ['normal'] not found. Falling back to DejaVu Sans.\n"
     ]
    },
    {
     "data": {
      "image/png": "[encoded data removed]",
      "text/plain": [
       "<Figure size 1440x720 with 1 Axes>"
      ]
     },
     "metadata": {
      "needs_background": "light"
     },
     "output_type": "display_data"
    }
   ],
   "source": [
    "plt.xlabel(\"K\")\n",
    "plt.ylabel(\"Correct / Num Predictions\")\n",
    "plt.xscale(\"log\")\n",
    "plt.title(\"k-NN algorithm score at odd values of k\")\n",
    "axes = plt.axes()\n",
    "axes.set_ylim([0, 100])\n",
    "plt.scatter(k_vals, accuraciesArr)\n",
    "\n",
    "for i, label in enumerate(k_vals):\n",
    "    plt.annotate(str(accuraciesArr[i]) + \"%\"\n",
    "                 , (label, accuraciesArr[i]-5)\n",
    "                , horizontalalignment = 'center'\n",
    "                , verticalalignment = 'bottom')\n",
    "    \n",
    "    plt.annotate(k_vals[i]\n",
    "                 , (label, accuraciesArr[i]-7)\n",
    "                , horizontalalignment = 'center'\n",
    "                , verticalalignment = 'bottom')\n",
    "    \n",
    "    \n",
    "    \n",
    "#https://stackoverflow.com/questions/3899980/how-to-change-the-font-size-on-a-matplotlib-plot\n",
    "font = {'family' : 'normal',\n",
    "        'weight' : 'bold',\n",
    "        'size'   : 8}\n",
    "\n",
    "plt.rc('font', **font)\n",
    "\n",
    "\n",
    "#import matplotlib.pyplot as plt\n",
    "plt.rcParams[\"figure.figsize\"] = (20,10)\n",
    "plt.show()"
   ]
  },
  {
   "cell_type": "code",
   "execution_count": null,
   "id": "editorial-dividend",
   "metadata": {},
   "outputs": [],
   "source": []
  },
  {
   "cell_type": "code",
   "execution_count": null,
   "id": "wound-invite",
   "metadata": {},
   "outputs": [],
   "source": []
  }
 ],
 "metadata": {
  "kernelspec": {
   "display_name": "Python 3",
   "language": "python",
   "name": "python3"
  },
  "language_info": {
   "codemirror_mode": {
    "name": "ipython",
    "version": 3
   },
   "file_extension": ".py",
   "mimetype": "text/x-python",
   "name": "python",
   "nbconvert_exporter": "python",
   "pygments_lexer": "ipython3",
   "version": "3.7.9"
  }
 },
 "nbformat": 4,
 "nbformat_minor": 5
}
